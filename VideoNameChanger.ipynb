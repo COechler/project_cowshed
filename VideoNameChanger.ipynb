{
 "cells": [
  {
   "cell_type": "markdown",
   "id": "2f9af75f-9cb1-405c-be56-5d37ad04620c",
   "metadata": {},
   "source": [
    "Copyright (c) 2025 Christian Oechler\n",
    "\n",
    "Permission is hereby granted, free of charge, to any person obtaining a copy of this software and associated documentation files (the “Software”), to deal in the Software without restriction, including without limitation the rights to use, copy, modify, merge, publish, distribute, sublicense, and/or sell copies of the Software, and to permit persons to whom the Software is furnished to do so, subject to the following conditions:\n",
    "\n",
    "The above copyright notice and this permission notice shall be included in all copies or substantial portions of the Software.\n",
    "\n",
    "THE SOFTWARE IS PROVIDED “AS IS”, WITHOUT WARRANTY OF ANY KIND, EXPRESS OR IMPLIED, INCLUDING BUT NOT LIMITED TO THE WARRANTIES OF MERCHANTABILITY, FITNESS FOR A PARTICULAR PURPOSE AND NONINFRINGEMENT. IN NO EVENT SHALL THE AUTHORS OR COPYRIGHT HOLDERS BE LIABLE FOR ANY CLAIM, DAMAGES OR OTHER LIABILITY, WHETHER IN AN ACTION OF CONTRACT, TORT OR OTHERWISE, ARISING FROM, OUT OF OR IN CONNECTION WITH THE SOFTWARE OR THE USE OR OTHER DEALINGS IN THE SOFTWARE. "
   ]
  },
  {
   "cell_type": "markdown",
   "id": "9a759a51-44ed-415a-bc2a-b5a298a079d5",
   "metadata": {},
   "source": [
    "## Importing the necessary python packages"
   ]
  },
  {
   "cell_type": "code",
   "execution_count": null,
   "id": "15d2236e-c8eb-4e16-af79-e1a04f872cfd",
   "metadata": {},
   "outputs": [],
   "source": [
    "import json\n",
    "from pathlib import Path\n",
    "import shutil\n",
    "from tqdm.notebook import tqdm\n",
    "import hashlib as hash"
   ]
  },
  {
   "cell_type": "markdown",
   "id": "8442c88b-35e1-4ae6-be22-1683bb122dc2",
   "metadata": {},
   "source": [
    "## Defination of the helper functions"
   ]
  },
  {
   "cell_type": "code",
   "execution_count": 42,
   "id": "34e82107-d79e-4f13-b066-a397cd7dd288",
   "metadata": {},
   "outputs": [],
   "source": [
    "def get_sha256_checksum(filepath: str) -> str:\n",
    "    BLOCKSIZE = 65536\n",
    "    \n",
    "    sha = hash.sha256()\n",
    "    \n",
    "    with open(filepath, 'rb') as handler:\n",
    "        file_buffer = handler.read(BLOCKSIZE)\n",
    "            \n",
    "        while len(file_buffer) > 0:\n",
    "            sha.update(file_buffer)\n",
    "            file_buffer = handler.read(BLOCKSIZE)\n",
    "            \n",
    "    return sha.hexdigest()"
   ]
  },
  {
   "cell_type": "code",
   "execution_count": 20,
   "id": "48ea27e0-7a27-4a05-974f-0c0dde43b381",
   "metadata": {},
   "outputs": [],
   "source": [
    "def create_filename(metadata) -> str:\n",
    "    return f'{metadata[\"video_time\"]}'"
   ]
  },
  {
   "cell_type": "code",
   "execution_count": null,
   "id": "d1336a27-9e69-4fd2-8775-2e2b57cdd3fb",
   "metadata": {},
   "outputs": [],
   "source": [
    "def create_path(metadata) -> Path:\n",
    "    video_date = metadata[\"video_date\"]\n",
    "    video_camera = metadata[\"video_camera\"]\n",
    "\n",
    "    video_date_elements = video_date.split(\"-\")\n",
    "    day = video_date_elements[0]\n",
    "    month = video_date_elements[1]\n",
    "    year = video_date_elements[2]\n",
    "\n",
    "    return Path(f'{video_camera}/{year}/{month}/{day}')"
   ]
  },
  {
   "cell_type": "code",
   "execution_count": 62,
   "id": "9fcc2d1a-60e3-40ba-b194-14e01936894f",
   "metadata": {},
   "outputs": [],
   "source": [
    "def copy_videofiles(source_file_path, destination_file_path, attempts=5) -> bool:\n",
    "    for _ in range(attempts):\n",
    "        shutil.copy2(source_file_path, destination_file_path)\n",
    "\n",
    "        # Calculates the checksum of the source and destination file\n",
    "        checksum_source_file = get_sha256_checksum(f'{source_file_path}')\n",
    "        checksum_destination_file = get_sha256_checksum(f'{destination_file_path}')\n",
    "\n",
    "        # Checks that the file was successfully copied\n",
    "        if checksum_source_file == checksum_destination_file:\n",
    "            return True\n",
    "\n",
    "    return False"
   ]
  },
  {
   "cell_type": "markdown",
   "id": "1819a187-1876-4649-ad09-55fe67cc186b",
   "metadata": {},
   "source": [
    "## Extraction of the metadata from the video file content"
   ]
  },
  {
   "cell_type": "markdown",
   "id": "f37048e3-3b74-4546-a876-c3f341f039ad",
   "metadata": {},
   "source": [
    "### Setup the system"
   ]
  },
  {
   "cell_type": "code",
   "execution_count": 60,
   "id": "f28a11c6-39ac-439d-862b-f2cac9f7e73f",
   "metadata": {},
   "outputs": [],
   "source": [
    "# Defines the base directory of the video files\n",
    "data_directory = \"data\"\n",
    "original_video_diretory = \"videos\"\n",
    "renamed_video_directory = \"renamed_videos\""
   ]
  },
  {
   "cell_type": "code",
   "execution_count": 63,
   "id": "6ae39d61-cc8d-4841-b7eb-a9726458c448",
   "metadata": {},
   "outputs": [
    {
     "data": {
      "application/vnd.jupyter.widget-view+json": {
       "model_id": "c39062fc3595427f921d199b68d81618",
       "version_major": 2,
       "version_minor": 0
      },
      "text/plain": [
       "Fortschritt:   0%|          | 0/1144 [00:00<?, ?Datei/s]"
      ]
     },
     "metadata": {},
     "output_type": "display_data"
    }
   ],
   "source": [
    "original_video_diretory = Path(\"original_video_diretory\")\n",
    "renamed_video_directory = Path(\"renamed_videos\")\n",
    "\n",
    "with open(f'{data_directory}/data.json', 'r') as json_file:\n",
    "    video_list = json.load(json_file)\n",
    "\n",
    "with tqdm(video_list.keys(), desc=\"Fortschritt\", unit=\"Datei\") as pbar:\n",
    "    for i, key in enumerate(pbar):\n",
    "        video_metadata = video_list[key]\n",
    "        source_file_path = Path(str(key))\n",
    "\n",
    "        # Checks the existance of the source video file\n",
    "        if not source_file_path.exists() or not source_file_path.is_file():\n",
    "            print(f'Die Videodatei {source_file_path} existiert nicht.')\n",
    "            continue\n",
    "        \n",
    "        # Creates the nessessary directories\n",
    "        path = renamed_video_directory / create_path(video_metadata)\n",
    "        path.mkdir(parents=True, exist_ok=True)\n",
    "    \n",
    "        # Copy the file to the new directory\n",
    "        filename = Path(f'{create_filename(video_metadata)}{source_file_path.suffix}')\n",
    "        destination_file_path = path / filename\n",
    "\n",
    "        # Skips further processing, if destination video file already exists\n",
    "        if destination_file_path.exists():\n",
    "            continue\n",
    "\n",
    "        pbar.set_postfix_str(f'{source_file_path.name} => {destination_file_path}')\n",
    "        \n",
    "        result = copy_videofiles(source_file_path, destination_file_path)\n",
    "\n",
    "        if not result:\n",
    "            print(f'Es ist ein Fehler beim Kopieren der Datei \"{key}\" aufgetreten.')"
   ]
  },
  {
   "cell_type": "code",
   "execution_count": null,
   "id": "2e9b7ce7-d94d-4e02-b73b-a62703f8fec5",
   "metadata": {},
   "outputs": [],
   "source": []
  }
 ],
 "metadata": {
  "kernelspec": {
   "display_name": "giessenwiki-env",
   "language": "python",
   "name": "python3"
  },
  "language_info": {
   "codemirror_mode": {
    "name": "ipython",
    "version": 3
   },
   "file_extension": ".py",
   "mimetype": "text/x-python",
   "name": "python",
   "nbconvert_exporter": "python",
   "pygments_lexer": "ipython3",
   "version": "3.10.12"
  }
 },
 "nbformat": 4,
 "nbformat_minor": 5
}
