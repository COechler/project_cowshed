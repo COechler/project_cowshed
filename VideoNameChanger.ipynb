{
 "cells": [
  {
   "cell_type": "markdown",
   "id": "2f9af75f-9cb1-405c-be56-5d37ad04620c",
   "metadata": {},
   "source": [
    "Copyright (c) 2025 Christian Oechler\n",
    "\n",
    "Permission is hereby granted, free of charge, to any person obtaining a copy of this software and associated documentation files (the “Software”), to deal in the Software without restriction, including without limitation the rights to use, copy, modify, merge, publish, distribute, sublicense, and/or sell copies of the Software, and to permit persons to whom the Software is furnished to do so, subject to the following conditions:\n",
    "\n",
    "The above copyright notice and this permission notice shall be included in all copies or substantial portions of the Software.\n",
    "\n",
    "THE SOFTWARE IS PROVIDED “AS IS”, WITHOUT WARRANTY OF ANY KIND, EXPRESS OR IMPLIED, INCLUDING BUT NOT LIMITED TO THE WARRANTIES OF MERCHANTABILITY, FITNESS FOR A PARTICULAR PURPOSE AND NONINFRINGEMENT. IN NO EVENT SHALL THE AUTHORS OR COPYRIGHT HOLDERS BE LIABLE FOR ANY CLAIM, DAMAGES OR OTHER LIABILITY, WHETHER IN AN ACTION OF CONTRACT, TORT OR OTHERWISE, ARISING FROM, OUT OF OR IN CONNECTION WITH THE SOFTWARE OR THE USE OR OTHER DEALINGS IN THE SOFTWARE. "
   ]
  },
  {
   "cell_type": "markdown",
   "id": "9a759a51-44ed-415a-bc2a-b5a298a079d5",
   "metadata": {},
   "source": [
    "## Importing the necessary python packages"
   ]
  },
  {
   "cell_type": "code",
   "execution_count": 1,
   "id": "15d2236e-c8eb-4e16-af79-e1a04f872cfd",
   "metadata": {},
   "outputs": [],
   "source": [
    "import json\n",
    "from pathlib import Path\n",
    "import shutil\n",
    "from tqdm.notebook import tqdm\n",
    "import hashlib as hash"
   ]
  },
  {
   "cell_type": "markdown",
   "id": "d8b9eac3-86e5-40b7-b052-10ee7854ac6c",
   "metadata": {},
   "source": [
    "## Schritt 1: Generiert die Datei-Namen und speichert diese in eine Datei"
   ]
  },
  {
   "cell_type": "code",
   "execution_count": null,
   "id": "10e97c04-ccd7-44e4-8aa8-1ec043a7c016",
   "metadata": {},
   "outputs": [],
   "source": [
    "CLEAN_JSON_INPUTFILE = \"data_clean.json\"\n",
    "CLEAN_PATH_OUTPUTFILE = \"path.json\""
   ]
  },
  {
   "cell_type": "code",
   "execution_count": null,
   "id": "8529244c-53c6-4cf4-afe1-b0369b0de667",
   "metadata": {},
   "outputs": [],
   "source": [
    "with open(CLEAN_JSON_INPUTFILE, 'r') as json_file:\n",
    "    video_list = json.load(json_file)\n",
    "\n",
    "data_finished = []\n",
    "\n",
    "with tqdm(video_list.keys(), desc=\"Fortschritt\", unit=\"Datei\") as pbar:\n",
    "    for i, key in enumerate(pbar):\n",
    "        video_metadata = video_list[key]\n",
    "        source_file_path = str(key)\n",
    "\n",
    "        video_id = video_metadata[\"video_id\"]\n",
    "        video_date = video_metadata[\"video_date\"]\n",
    "        video_camera = video_metadata[\"video_camera\"]\n",
    "        video_time = video_metadata[\"video_time\"]\n",
    "    \n",
    "        video_date_elements = video_date.split(\"-\")\n",
    "        day = video_date_elements[0]\n",
    "        month = video_date_elements[1]\n",
    "        year = video_date_elements[2]\n",
    "\n",
    "        video_time = video_time.replace(\":\",\"\")\n",
    "\n",
    "        filepath = f'{video_camera}/{year}/{month}/{day}'\n",
    "        filesuffix = Path(source_file_path).suffix\n",
    "        filename = f'{video_id}_{video_camera}_{video_time}{filesuffix}'\n",
    "\n",
    "        full_path = f'{filepath}/{filename}'\n",
    "\n",
    "        video_data = {\"source_file_path\": source_file_path, \"destination_file_path\": full_path}\n",
    "\n",
    "        data_finished.append(video_data)\n",
    "\n",
    "with open(CLEAN_PATH_OUTPUTFILE, 'w') as json_file:\n",
    "    json.dump(data_finished, json_file, indent=4)        "
   ]
  },
  {
   "cell_type": "markdown",
   "id": "3df4c703-86df-4ca7-93bb-3a0bbdb9f6c1",
   "metadata": {},
   "source": [
    "## Schritt 2: Dateien kopieren"
   ]
  },
  {
   "cell_type": "code",
   "execution_count": 3,
   "id": "b15b0877-87cb-4127-96bc-bf10f3631118",
   "metadata": {},
   "outputs": [],
   "source": [
    "CLEAN_PATH_INPUTFILE = \"path.json\"\n",
    "DESTINATION_DIRECTORY = \"renamed_videos\""
   ]
  },
  {
   "cell_type": "code",
   "execution_count": 4,
   "id": "34e82107-d79e-4f13-b066-a397cd7dd288",
   "metadata": {},
   "outputs": [],
   "source": [
    "def get_sha256_checksum(filepath: str) -> str:\n",
    "    BLOCKSIZE = 65536\n",
    "    \n",
    "    sha = hash.sha256()\n",
    "    \n",
    "    with open(filepath, 'rb') as handler:\n",
    "        file_buffer = handler.read(BLOCKSIZE)\n",
    "            \n",
    "        while len(file_buffer) > 0:\n",
    "            sha.update(file_buffer)\n",
    "            file_buffer = handler.read(BLOCKSIZE)\n",
    "            \n",
    "    return sha.hexdigest()"
   ]
  },
  {
   "cell_type": "code",
   "execution_count": 5,
   "id": "9fcc2d1a-60e3-40ba-b194-14e01936894f",
   "metadata": {},
   "outputs": [],
   "source": [
    "def copy_videofiles(source_file_path, destination_file_path, attempts=5) -> bool:\n",
    "    for _ in range(attempts):\n",
    "        shutil.copy2(source_file_path, destination_file_path)\n",
    "\n",
    "        # Calculates the checksum of the source and destination file\n",
    "        checksum_source_file = get_sha256_checksum(f'{source_file_path}')\n",
    "        checksum_destination_file = get_sha256_checksum(f'{destination_file_path}')\n",
    "\n",
    "        # Checks that the file was successfully copied\n",
    "        if checksum_source_file == checksum_destination_file:\n",
    "            return True\n",
    "\n",
    "    return False"
   ]
  },
  {
   "cell_type": "code",
   "execution_count": 21,
   "id": "7ae6279b-cbbe-4c71-ae3f-282a47a84db0",
   "metadata": {},
   "outputs": [
    {
     "data": {
      "application/vnd.jupyter.widget-view+json": {
       "model_id": "20a43939a0bf4c62b476dbad9215e942",
       "version_major": 2,
       "version_minor": 0
      },
      "text/plain": [
       "Fortschritt:   0%|          | 0/125 [00:00<?, ?Datei/s]"
      ]
     },
     "metadata": {},
     "output_type": "display_data"
    }
   ],
   "source": [
    "with open(CLEAN_PATH_INPUTFILE, 'r') as json_file:\n",
    "    data = json.load(json_file)\n",
    "\n",
    "with tqdm(data, desc=\"Fortschritt\", unit=\"Datei\") as pbar:\n",
    "    for i, file in enumerate(pbar):\n",
    "        try:\n",
    "            source_file_path = Path(file[\"source_file_path\"])\n",
    "            destination_file_path = Path(file[\"destination_file_path\"])\n",
    "            \n",
    "            # Checks the existance of the source video file\n",
    "            if not source_file_path.exists() or not source_file_path.is_file():\n",
    "                print(f'Die Videodatei {source_file_path} existiert nicht.')\n",
    "                continue\n",
    "    \n",
    "            destination_directory = Path(DESTINATION_DIRECTORY) / destination_file_path.parent\n",
    "            destination_directory.mkdir(parents=True, exist_ok=True)\n",
    "    \n",
    "            pbar.set_postfix_str(f'{source_file_path.name} => {destination_file_path}')\n",
    "    \n",
    "            final_destination = Path(DESTINATION_DIRECTORY) / destination_file_path\n",
    "            \n",
    "            result = copy_videofiles(source_file_path, final_destination)\n",
    "\n",
    "            if not result:\n",
    "                raise Exception\n",
    "\n",
    "        except Exception:\n",
    "            print(f'Es ist ein Fehler beim Kopieren der Datei \"{file[\"source_file_path\"]}\" aufgetreten.')\n",
    "            continue"
   ]
  },
  {
   "cell_type": "code",
   "execution_count": null,
   "id": "e1a28084-cc98-4883-9a93-48a95e2dac14",
   "metadata": {},
   "outputs": [],
   "source": []
  }
 ],
 "metadata": {
  "kernelspec": {
   "display_name": "Python 3 (ipykernel)",
   "language": "python",
   "name": "python3"
  },
  "language_info": {
   "codemirror_mode": {
    "name": "ipython",
    "version": 3
   },
   "file_extension": ".py",
   "mimetype": "text/x-python",
   "name": "python",
   "nbconvert_exporter": "python",
   "pygments_lexer": "ipython3",
   "version": "3.10.12"
  }
 },
 "nbformat": 4,
 "nbformat_minor": 5
}
