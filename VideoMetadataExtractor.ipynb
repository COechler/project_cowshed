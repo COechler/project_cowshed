{
 "cells": [
  {
   "cell_type": "markdown",
   "id": "e1ddd412-da14-40a6-b17c-70f29d8a2612",
   "metadata": {},
   "source": [
    "Copyright (c) 2025 Christian Oechler\n",
    "\n",
    "Permission is hereby granted, free of charge, to any person obtaining a copy of this software and associated documentation files (the “Software”), to deal in the Software without restriction, including without limitation the rights to use, copy, modify, merge, publish, distribute, sublicense, and/or sell copies of the Software, and to permit persons to whom the Software is furnished to do so, subject to the following conditions:\n",
    "\n",
    "The above copyright notice and this permission notice shall be included in all copies or substantial portions of the Software.\n",
    "\n",
    "THE SOFTWARE IS PROVIDED “AS IS”, WITHOUT WARRANTY OF ANY KIND, EXPRESS OR IMPLIED, INCLUDING BUT NOT LIMITED TO THE WARRANTIES OF MERCHANTABILITY, FITNESS FOR A PARTICULAR PURPOSE AND NONINFRINGEMENT. IN NO EVENT SHALL THE AUTHORS OR COPYRIGHT HOLDERS BE LIABLE FOR ANY CLAIM, DAMAGES OR OTHER LIABILITY, WHETHER IN AN ACTION OF CONTRACT, TORT OR OTHERWISE, ARISING FROM, OUT OF OR IN CONNECTION WITH THE SOFTWARE OR THE USE OR OTHER DEALINGS IN THE SOFTWARE. "
   ]
  },
  {
   "cell_type": "markdown",
   "id": "ecdd4c6e-00ec-41ce-8568-c36795212697",
   "metadata": {},
   "source": [
    "## Importing the necessary python packages"
   ]
  },
  {
   "cell_type": "code",
   "execution_count": null,
   "id": "c75c3353-ae8a-4b64-8be2-d0432bbd58f1",
   "metadata": {},
   "outputs": [],
   "source": [
    "import cv2\n",
    "import json\n",
    "import re\n",
    "import torch\n",
    "\n",
    "from pathlib import Path\n",
    "from PIL import Image\n",
    "from transformers import AutoProcessor, AutoModelForCausalLM \n",
    "from tqdm.notebook import tqdm\n",
    "from typing import Tuple"
   ]
  },
  {
   "cell_type": "markdown",
   "id": "50a7cfea-930e-4421-8290-3ea9b84e287f",
   "metadata": {},
   "source": [
    "## Definition of the ocr machine"
   ]
  },
  {
   "cell_type": "code",
   "execution_count": null,
   "id": "343cff61-b4a8-4a1e-8273-505b32d83fef",
   "metadata": {},
   "outputs": [],
   "source": [
    "class OCRMachine():\n",
    "    def __init__(self):\n",
    "        device = \"cuda:0\" if torch.cuda.is_available() else \"cpu\"\n",
    "        torch_dtype = torch.float16 if torch.cuda.is_available() else torch.float32\n",
    "\n",
    "        if device == \"cpu\":\n",
    "            print(\"ACHTUNG: Keine Beschleunigung durch eine Grafikkarte verfügbar!\")\n",
    "        \n",
    "        self.model = AutoModelForCausalLM.from_pretrained(\"microsoft/Florence-2-base\",\n",
    "                                                            torch_dtype=torch_dtype,\n",
    "                                                            trust_remote_code=True,\n",
    "                                                            cache_dir=\"models/\"\n",
    "                                                           ).to(device)\n",
    "        \n",
    "        self.processor = AutoProcessor.from_pretrained(\"microsoft/Florence-2-base\", trust_remote_code=True, cache_dir=\"models/\")\n",
    "\n",
    "\n",
    "    def do_ocr(self, frame) -> str:\n",
    "        # Convert the image from BGR (OpenCV default) to RGB (PIL default)\n",
    "        image_rgb = cv2.cvtColor(frame, cv2.COLOR_BGR2RGB)\n",
    "\n",
    "        # Loads the image from the array\n",
    "        image = Image.fromarray(image_rgb)\n",
    "\n",
    "        device = \"cuda:0\" if torch.cuda.is_available() else \"cpu\"\n",
    "        torch_dtype = torch.float16 if torch.cuda.is_available() else torch.float32\n",
    "\n",
    "        prompt = \"<OCR>\"\n",
    "        inputs = self.processor(text=prompt, images=image, return_tensors=\"pt\").to(device, torch_dtype)\n",
    "        generated_ids = self.model.generate(input_ids=inputs[\"input_ids\"],\n",
    "                                                      pixel_values=inputs[\"pixel_values\"],\n",
    "                                                      max_new_tokens=4096,\n",
    "                                                      num_beams=3,\n",
    "                                                      do_sample=False\n",
    "                                                     )\n",
    "                \n",
    "        generated_text = self.processor.batch_decode(generated_ids, skip_special_tokens=False)[0]\n",
    "                \n",
    "        output = self.processor.post_process_generation(generated_text, task=\"<OCR>\", image_size=(image.width, image.height))\n",
    "                \n",
    "        return output[\"<OCR>\"]"
   ]
  },
  {
   "cell_type": "markdown",
   "id": "9aef81d7-89b1-4451-8089-803260c1a820",
   "metadata": {},
   "source": [
    "## Defination of the helper functions"
   ]
  },
  {
   "cell_type": "code",
   "execution_count": null,
   "id": "445cd3d6-10ab-4ffb-bcfe-72b97c676c85",
   "metadata": {},
   "outputs": [],
   "source": [
    "def load_processed_data(filname):\n",
    "    try:\n",
    "        with open(filname, 'r') as json_file:\n",
    "            file_list = json.load(json_file)\n",
    "\n",
    "        return file_list\n",
    "    \n",
    "    except Exception:\n",
    "        return {}"
   ]
  },
  {
   "cell_type": "code",
   "execution_count": null,
   "id": "fcda618f-487f-4810-b659-db66e30d1b30",
   "metadata": {},
   "outputs": [],
   "source": [
    "def extract_date_text(machine, frame_part, verbose=False) -> Tuple[str, str]:\n",
    "    text = machine.do_ocr(frame_part)\n",
    "\n",
    "    if verbose:\n",
    "        print(text)\n",
    "    \n",
    "    pattern = r\"(\\d{2}-\\d{2}-\\d{4})[\\s-](\\d{2}:\\d{2}:\\d{2})\"\n",
    "\n",
    "    match = re.match(pattern, text)\n",
    "\n",
    "    if not match:\n",
    "        raise ValueError(f'Es konnten keine Daten aus dem Datums-Text extrahiert werden. Der Text lautete: {text}')\n",
    "\n",
    "    assert len(match.groups()) == 2, f'Es wurden nicht genügend Daten aus dem Datums-Text extrahiert. Der Text lautete: {text}'\n",
    "\n",
    "    # Überprüfen, ob ein Treffer gefunden wurde\n",
    "    if match:\n",
    "        date = match.group(1)\n",
    "        time = match.group(2)\n",
    "\n",
    "        return date, time\n",
    "    else:\n",
    "        raise ValueError(\"Konnte die benötigten Daten nicht aus dem Datums-Text extahieren.\")"
   ]
  },
  {
   "cell_type": "code",
   "execution_count": null,
   "id": "fe430177-7453-4739-b92e-927310a46231",
   "metadata": {},
   "outputs": [],
   "source": [
    "def extract_cam_text(machine, frame_part, verbose=False):\n",
    "    text = machine.do_ocr(frame_part)\n",
    "\n",
    "    if verbose:\n",
    "        print(text)\n",
    "    \n",
    "    return text"
   ]
  },
  {
   "cell_type": "code",
   "execution_count": null,
   "id": "39447364-3f05-4ee7-a185-3e8affb91215",
   "metadata": {},
   "outputs": [],
   "source": [
    "def get_video_metadata(ocr_machine, path_to_videofile, verbose=False) -> Tuple[str, str, str]:\n",
    "    if isinstance(path_to_videofile, str):\n",
    "        video_file = path_to_videofile\n",
    "    else:\n",
    "        video_file = str(path_to_videofile)\n",
    "\n",
    "    if verbose:\n",
    "        print(f'Folgende Datei wird bearbeitet: {video_file}')\n",
    "    \n",
    "    try:\n",
    "        cap = cv2.VideoCapture(f'{video_file}')\n",
    "\n",
    "        frames_per_second = cap.get(cv2.CAP_PROP_FPS)\n",
    "        total_frames = int(cap.get(cv2.CAP_PROP_FRAME_COUNT))\n",
    "        list_of_frame_indices = [frames_per_second * i for i in range(0, int(total_frames / frames_per_second)) if frames_per_second * i <= total_frames]\n",
    "\n",
    "        if not cap.isOpened():\n",
    "            raise BaseException(\"Das Video konnte nicht geöffnet werden.\")\n",
    "            \n",
    "            \n",
    "        for frame_index in list_of_frame_indices:\n",
    "            try:\n",
    "                # Set the current frame position\n",
    "                cap.set(cv2.CAP_PROP_POS_FRAMES, frame_index)\n",
    "            \n",
    "                # Read the frame\n",
    "                ret, frame = cap.read()\n",
    "    \n",
    "                # Guard to ensure the frame was read correctly\n",
    "                if not ret:\n",
    "                    continue\n",
    "    \n",
    "                # Calculate the ratio between weidth and hight to dectect the video orientation\n",
    "                height, width, _ = frame.shape\n",
    "                image_ratio = width / height\n",
    "    \n",
    "                # Crops the frame relevat frame parts of the date and the cam\n",
    "                if image_ratio > 1:\n",
    "                    cropped_frame_date = frame[:150, 1300:]\n",
    "                    cropped_frame_cam = frame[950:, 0:300]\n",
    "                else:\n",
    "                    cropped_frame_date = frame[0:250, 400:]\n",
    "                    cropped_frame_cam = frame[1700:, :370]\n",
    "                    \n",
    "                video_date, video_time = extract_date_text(ocr_machine, cropped_frame_date, verbose)\n",
    "                video_camera = extract_cam_text(ocr_machine, cropped_frame_cam, verbose)\n",
    "    \n",
    "                cap.release()\n",
    "\n",
    "            except Exception:\n",
    "                continue\n",
    "            \n",
    "            return video_date, video_time, video_camera\n",
    "            \n",
    "    \n",
    "    except BaseException as e:\n",
    "        print(f'Es ist ein Fehler beim Bearbeiten der Datei \"{video_file}\" aufgetreten: ', end=\"\")\n",
    "        print(e)\n",
    "    \n",
    "    finally:\n",
    "        pass\n",
    "        #if cap:\n",
    "        #    cap.release()"
   ]
  },
  {
   "cell_type": "markdown",
   "id": "9f3305d3-81b2-49d0-906a-646d3c7e88b9",
   "metadata": {},
   "source": [
    "## Extraction of the metadata from the video file content"
   ]
  },
  {
   "cell_type": "markdown",
   "id": "c7fb8d3f-874f-40d1-9978-00a40b738f19",
   "metadata": {},
   "source": [
    "### Setup the system"
   ]
  },
  {
   "cell_type": "code",
   "execution_count": null,
   "id": "eea084e6-8def-42b0-bb3a-b814d94d71a4",
   "metadata": {},
   "outputs": [],
   "source": [
    "MAIN_DIRECTORY_VIDEO_FILES = \"videos\""
   ]
  },
  {
   "cell_type": "code",
   "execution_count": null,
   "id": "484551be-7354-4ede-9632-e378c7f8eecd",
   "metadata": {},
   "outputs": [],
   "source": [
    "machine = OCRMachine()"
   ]
  },
  {
   "cell_type": "markdown",
   "id": "c7c7d37a-6159-4996-af79-e975a8f06bbc",
   "metadata": {},
   "source": [
    "### Start the extraction process of all videos"
   ]
  },
  {
   "cell_type": "code",
   "execution_count": null,
   "id": "4881cde0-124e-4e7b-83a2-22df2f53ab93",
   "metadata": {},
   "outputs": [],
   "source": [
    "main_directory_path = Path(MAIN_DIRECTORY_VIDEO_FILES)\n",
    "\n",
    "\n",
    "files = []\n",
    "\n",
    "# Gets all file pathes of the videos\n",
    "for video_directory in main_directory_path.iterdir():\n",
    "    for video_file_path in video_directory.iterdir():\n",
    "        files.append(video_file_path)\n",
    "\n",
    "file_dictornary = load_processed_data(\"data/data.json\")\n",
    "\n",
    "with tqdm(files, desc=\"Fortschritt\", unit=\"Datei\") as pbar:\n",
    "    for i, videofile in enumerate(pbar):\n",
    "        pbar.set_postfix_str(f\"{videofile.name}\")\n",
    "\n",
    "        try:\n",
    "            if str(videofile) in file_dictornary:\n",
    "                continue\n",
    "            \n",
    "            # Get the unique video id from the filename\n",
    "            match = re.search(r'\\((\\d+)\\)', str(videofile))\n",
    "\n",
    "            # Guard which throws an expetion if id could not be extracted from filename\n",
    "            if match is None:\n",
    "                raise ValueError(f'Es konnte die eindeutige ID des Videos {videofile} nicht ermittelt werden')\n",
    "\n",
    "            # Saves the metadata of the video file\n",
    "            video_id = match.group(1)\n",
    "            video_date, video_time, video_camera = get_video_metadata(machine, videofile)\n",
    "\n",
    "            metadata = {\"video_id\": video_id, \"video_date\": video_date, \"video_time\": video_time, \"video_camera\": video_camera}\n",
    "            \n",
    "            file_dictornary[str(videofile)] = metadata\n",
    "    \n",
    "        except BaseException as e:\n",
    "            print(f'Es ist ein Fehler beim Bearbeiten der Datei \"{videofile}\" aufgetreten.')\n",
    "            print(e)\n",
    "    \n",
    "            with open(\"error.txt\", 'a') as file:\n",
    "                file.write(f'{videofile} \\n')\n",
    "    \n",
    "        finally:\n",
    "            # Open the file in write mode and save the JSON data\n",
    "            with open('data/data.json', 'w') as json_file:\n",
    "                json.dump(file_dictornary, json_file, indent=4)\n",
    "    \n",
    "            # Open the file in write mode and save the JSON data\n",
    "            with open(f'data/data.json.{int(i/250)}.backup', 'w') as json_file:\n",
    "                json.dump(file_dictornary, json_file, indent=4)"
   ]
  },
  {
   "cell_type": "code",
   "execution_count": null,
   "id": "8e2de6ff-f590-4e60-b7d8-afd2c461ba1d",
   "metadata": {},
   "outputs": [],
   "source": [
    "get_video_metadata(machine, \"videos/154000~154400/Wiederhergestellt_mp4_Datei(154377).mp4\", verbose=True)"
   ]
  }
 ],
 "metadata": {
  "kernelspec": {
   "display_name": "giessenwiki-env",
   "language": "python",
   "name": "python3"
  },
  "language_info": {
   "codemirror_mode": {
    "name": "ipython",
    "version": 3
   },
   "file_extension": ".py",
   "mimetype": "text/x-python",
   "name": "python",
   "nbconvert_exporter": "python",
   "pygments_lexer": "ipython3",
   "version": "3.10.12"
  }
 },
 "nbformat": 4,
 "nbformat_minor": 5
}
