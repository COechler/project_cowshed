{
 "cells": [
  {
   "cell_type": "markdown",
   "id": "e309ced6-5912-45d7-9c29-847874f4c874",
   "metadata": {},
   "source": [
    "Copyright (c) 2025 Christian Oechler\n",
    "\n",
    "Permission is hereby granted, free of charge, to any person obtaining a copy of this software and associated documentation files (the “Software”), to deal in the Software without restriction, including without limitation the rights to use, copy, modify, merge, publish, distribute, sublicense, and/or sell copies of the Software, and to permit persons to whom the Software is furnished to do so, subject to the following conditions:\n",
    "\n",
    "The above copyright notice and this permission notice shall be included in all copies or substantial portions of the Software.\n",
    "\n",
    "THE SOFTWARE IS PROVIDED “AS IS”, WITHOUT WARRANTY OF ANY KIND, EXPRESS OR IMPLIED, INCLUDING BUT NOT LIMITED TO THE WARRANTIES OF MERCHANTABILITY, FITNESS FOR A PARTICULAR PURPOSE AND NONINFRINGEMENT. IN NO EVENT SHALL THE AUTHORS OR COPYRIGHT HOLDERS BE LIABLE FOR ANY CLAIM, DAMAGES OR OTHER LIABILITY, WHETHER IN AN ACTION OF CONTRACT, TORT OR OTHERWISE, ARISING FROM, OUT OF OR IN CONNECTION WITH THE SOFTWARE OR THE USE OR OTHER DEALINGS IN THE SOFTWARE. "
   ]
  },
  {
   "cell_type": "markdown",
   "id": "df5d5ea2-3bf0-4586-88ab-3aca15b595e6",
   "metadata": {},
   "source": [
    "## Installation of the necessary python packages"
   ]
  },
  {
   "cell_type": "code",
   "execution_count": null,
   "id": "79facbaa-0078-434e-8df3-50d2b78ee3c5",
   "metadata": {},
   "outputs": [],
   "source": [
    "%pip install torch torchvision torchaudio\n",
    "%pip install opencv-python\n",
    "%pip install transformers==4.50.1\n",
    "%pip install tqdm"
   ]
  },
  {
   "cell_type": "markdown",
   "id": "6cbdb0df-7c1a-4c5a-b211-0eee7f23338c",
   "metadata": {},
   "source": [
    "## Importing the necessary python packages"
   ]
  },
  {
   "cell_type": "code",
   "execution_count": null,
   "id": "186f8cd9-784a-40ee-8b5a-b8949456aaf5",
   "metadata": {},
   "outputs": [],
   "source": [
    "import cv2\n",
    "import json\n",
    "import re\n",
    "import torch\n",
    "import random\n",
    "\n",
    "from pathlib import Path\n",
    "from PIL import Image\n",
    "from transformers import AutoProcessor, AutoModelForCausalLM \n",
    "from tqdm.notebook import tqdm\n",
    "from typing import Tuple, List"
   ]
  },
  {
   "cell_type": "markdown",
   "id": "0e5b25f8-e94c-49fc-b11b-b56fb9f88293",
   "metadata": {},
   "source": [
    "## Definition of the ocr machine"
   ]
  },
  {
   "cell_type": "code",
   "execution_count": null,
   "id": "a302e203-06c3-4a41-9f31-d21fc79bed00",
   "metadata": {},
   "outputs": [],
   "source": [
    "class OCRMachine():\n",
    "    def __init__(self):\n",
    "        self.device = \"cuda:0\" if torch.cuda.is_available() else \"cpu\"\n",
    "        self.torch_dtype = torch.float16 if torch.cuda.is_available() else torch.float32\n",
    "\n",
    "        if self.device == \"cpu\":\n",
    "            print(\"ACHTUNG: Keine Beschleunigung durch eine Grafikkarte verfügbar!\")\n",
    "        \n",
    "        self.model = AutoModelForCausalLM.from_pretrained(\"microsoft/Florence-2-base\",\n",
    "                                                            torch_dtype=self.torch_dtype,\n",
    "                                                            trust_remote_code=True,\n",
    "                                                            cache_dir=\"models/\"\n",
    "                                                           ).to(self.device)\n",
    "        \n",
    "        self.processor = AutoProcessor.from_pretrained(\"microsoft/Florence-2-base\", trust_remote_code=True, cache_dir=\"models/\")\n",
    "\n",
    "\n",
    "    def do_ocr(self, frame) -> str:\n",
    "        # Convert the image from BGR (OpenCV default) to RGB (PIL default)\n",
    "        image_rgb = cv2.cvtColor(frame, cv2.COLOR_BGR2RGB)\n",
    "\n",
    "        # Loads the image from the array\n",
    "        image = Image.fromarray(image_rgb)\n",
    "\n",
    "        prompt = \"<OCR>\"\n",
    "        inputs = self.processor(text=prompt, images=image, return_tensors=\"pt\").to(self.device, self.torch_dtype)\n",
    "        generated_ids = self.model.generate(input_ids=inputs[\"input_ids\"],\n",
    "                                                      pixel_values=inputs[\"pixel_values\"],\n",
    "                                                      max_new_tokens=4096,\n",
    "                                                      num_beams=3,\n",
    "                                                      do_sample=False\n",
    "                                                     )\n",
    "                \n",
    "        generated_text = self.processor.batch_decode(generated_ids, skip_special_tokens=False)[0]\n",
    "                \n",
    "        output = self.processor.post_process_generation(generated_text, task=\"<OCR>\", image_size=(image.width, image.height))\n",
    "                \n",
    "        return output[\"<OCR>\"]"
   ]
  },
  {
   "cell_type": "markdown",
   "id": "df1c5db0-4c2e-4c00-b9ac-a505d6295312",
   "metadata": {},
   "source": [
    "## Defination of the helper functions"
   ]
  },
  {
   "cell_type": "code",
   "execution_count": null,
   "id": "4be68b65-1a90-4343-8ce6-8e0863b63cb4",
   "metadata": {},
   "outputs": [],
   "source": [
    "def test_video(ocr_machine, path_to_videofile) -> List[str|Tuple]:\n",
    "    if isinstance(path_to_videofile, str):\n",
    "        video_file = path_to_videofile\n",
    "    else:\n",
    "        video_file = str(path_to_videofile)\n",
    "\n",
    "    # Saves the errors\n",
    "    errors = []\n",
    "\n",
    "    \n",
    "    # Test the extraction of the unique video id\n",
    "    try:\n",
    "        # Get the unique video id from the filename\n",
    "        match = re.search(r'\\((\\d+)\\)', str(video_file))\n",
    "\n",
    "        # Guard which throws an expetion if id could not be extracted from filename\n",
    "        if match is None:\n",
    "            raise ValueError()\n",
    "\n",
    "        # Saves the metadata of the video file\n",
    "        video_id = match.group(1)\n",
    "\n",
    "    except Exception:\n",
    "        error_message = f'Konnte aus dem Path {video_file} nicht die eindeutige ID auslesen.'\n",
    "        errors.append(error_message)\n",
    "\n",
    "\n",
    "    \n",
    "    # Test the extraction of the date and the time\n",
    "    text = \"\"\n",
    "    cropped_frame_date = None\n",
    "    try:\n",
    "        cap = cv2.VideoCapture(f'{video_file}')\n",
    "        cap.set(cv2.CAP_PROP_POS_FRAMES, 0)\n",
    "        ret, frame = cap.read()\n",
    "        \n",
    "        # Calculate the ratio between weidth and hight to dectect the video orientation\n",
    "        height, width, _ = frame.shape\n",
    "        image_ratio = width / height\n",
    "    \n",
    "        # Crops the frame relevat frame parts of the date and the cam\n",
    "        if image_ratio > 1:\n",
    "            cropped_frame_date = frame[:150, 1300:]\n",
    "        else:\n",
    "            cropped_frame_date = frame[0:250, 400:]\n",
    "\n",
    "        text = machine.do_ocr(cropped_frame_date)\n",
    "\n",
    "        pattern = r\"(\\d{2}-\\d{2}-\\d{4})[\\s-](\\d{2}:\\d{2}:\\d{2})\"\n",
    "    \n",
    "        match = re.match(pattern, text)\n",
    "    \n",
    "        if not match:\n",
    "            raise ValueError()\n",
    "    \n",
    "        assert len(match.groups()) == 2, f'Es wurden nicht genügend Daten aus dem Datums-Text extrahiert. Der Text lautete: {text}'\n",
    "    \n",
    "        # Guard if nothing was matched\n",
    "        if not match:\n",
    "            raise ValueError()\n",
    "        \n",
    "        date = match.group(1)\n",
    "        time = match.group(2)\n",
    "   \n",
    "    except Exception:\n",
    "        error_message = f'Das Datum oder die Zeit konnte nicht ausgelesen werden. Der OCR-Text lautet: {text}'\n",
    "        errors.append(error_message)\n",
    "        error_message = (\"date\", cropped_frame_date)\n",
    "        errors.append(error_message)\n",
    "\n",
    "\n",
    "\n",
    "    # Test the extraction of the camera\n",
    "    text = \"\"\n",
    "    cropped_frame_cam = None\n",
    "    try:\n",
    "        cap = cv2.VideoCapture(f'{video_file}')\n",
    "        cap.set(cv2.CAP_PROP_POS_FRAMES, 0)\n",
    "        ret, frame = cap.read()\n",
    "        \n",
    "        # Calculate the ratio between weidth and hight to dectect the video orientation\n",
    "        height, width, _ = frame.shape\n",
    "        image_ratio = width / height\n",
    "    \n",
    "        # Crops the frame relevat frame parts of the date and the cam\n",
    "        if image_ratio > 1:\n",
    "            cropped_frame_cam = frame[950:, 0:300]\n",
    "        else:\n",
    "            cropped_frame_cam = frame[1700:, :370]\n",
    "\n",
    "        text = machine.do_ocr(cropped_frame_cam)\n",
    "        \n",
    "    except Exception:\n",
    "        error_message = f'Das Datum oder die Zeit konnte nicht ausgelesen werden. Der OCR-Text lautet: {text}'\n",
    "        errors.append(error_message)\n",
    "        error_message = (\"cam\", cropped_frame_cam)\n",
    "        errors.append(error_message)\n",
    "\n",
    "\n",
    "    return errors"
   ]
  },
  {
   "cell_type": "markdown",
   "id": "7c709675-5d87-4f39-bd2b-40ba256e29d9",
   "metadata": {},
   "source": [
    "### Setup the system"
   ]
  },
  {
   "cell_type": "code",
   "execution_count": null,
   "id": "f26ff3b0-2f86-49e0-beb0-872eb3212bdb",
   "metadata": {},
   "outputs": [],
   "source": [
    "# Directory with the video files\n",
    "MAIN_DIRECTORY_VIDEO_FILES = \"videos\"\n",
    "\n",
    "# Directory with the test results\n",
    "TEST_RESULT_DIRECTORY = \"test_results\""
   ]
  },
  {
   "cell_type": "code",
   "execution_count": null,
   "id": "bec15e6d-60ae-46ef-95e1-17e1de106ed8",
   "metadata": {},
   "outputs": [],
   "source": [
    "machine = OCRMachine()"
   ]
  },
  {
   "cell_type": "markdown",
   "id": "5b43ca96-91bc-4b38-94de-d85af3a45a83",
   "metadata": {},
   "source": [
    "### Determine the video files for testing"
   ]
  },
  {
   "cell_type": "code",
   "execution_count": null,
   "id": "dbb3558a-f7a7-4bf2-aaec-f6ef9350eb54",
   "metadata": {},
   "outputs": [],
   "source": [
    "main_directory_path = Path(MAIN_DIRECTORY_VIDEO_FILES)\n",
    "\n",
    "test_video_filelist: List[Path] = []\n",
    "\n",
    "# Iteration through the main video directory\n",
    "with tqdm(list(main_directory_path.iterdir()), desc=\"Fortschritt\", unit=\"Datei\") as pbar:\n",
    "    for i, video_directory in enumerate(pbar):\n",
    "        # Updates the pogress bar\n",
    "        pbar.set_postfix_str(f\"Verzeichnis :{video_directory.name}\")\n",
    "        \n",
    "        # Saves all video files in the directory in a list \n",
    "        files_in_directory: List[Path] = list(video_directory.iterdir())\n",
    "    \n",
    "        # Guard to prevent further processing if directory is empty\n",
    "        if len(files_in_directory) < 1:\n",
    "            continue\n",
    "    \n",
    "        # Calculates the end index\n",
    "        end_index = len(files_in_directory) - 1\n",
    "    \n",
    "        # Get the index of a randomly selected file\n",
    "        random_selected_index = random.randint(0, end_index)\n",
    "    \n",
    "        # Saves file path to the test list of video file\n",
    "        test_video_filelist.append(files_in_directory[random_selected_index])"
   ]
  },
  {
   "cell_type": "markdown",
   "id": "62d7ac27-00ce-41bf-b345-9ce1f3843e25",
   "metadata": {},
   "source": [
    "## Test the video files"
   ]
  },
  {
   "cell_type": "code",
   "execution_count": null,
   "id": "a0539f00-0530-43dd-b45b-65074d7cd3be",
   "metadata": {},
   "outputs": [],
   "source": [
    "test_result_directory_path = Path(TEST_RESULT_DIRECTORY)\n",
    "test_result_directory_path.mkdir(parents=True, exist_ok=True)\n",
    "\n",
    "with tqdm(test_video_filelist, desc=\"Fortschritt\", unit=\"Datei\") as pbar:\n",
    "    for i, video_file in enumerate(pbar):\n",
    "        pbar.set_postfix_str(f\"{video_file.name}\")\n",
    "        \n",
    "        result = test_video(machine, video_file)\n",
    "\n",
    "        if len(result) == 0:\n",
    "            print(f'\\033[92m[OK]\\033[0m {video_file}')\n",
    "        else:\n",
    "            print(f'\\033[91m[ERROR]\\033[0m {video_file}')\n",
    "\n",
    "            with open(f'{test_result_directory_path}/error.txt', 'a') as file:\n",
    "                file.write(\"--------------------\\n\")\n",
    "                file.write(f'{video_file} \\n')\n",
    "\n",
    "                for error in result:\n",
    "                    if isinstance(error, str):\n",
    "                        file.write(f'{error}\\n')\n",
    "                \n",
    "                file.write(\"--------------------\\n\")\n",
    "\n",
    "            for error in result:\n",
    "                if isinstance(error, tuple):\n",
    "                    name, image = error\n",
    "                    im = Image.fromarray(image)\n",
    "                    filepath = f'{test_result_directory_path}/{video_file.name}_{name}.jpg'\n",
    "                    im.save(filepath)"
   ]
  }
 ],
 "metadata": {
  "kernelspec": {
   "display_name": "tutorial-env",
   "language": "python",
   "name": "tutorial-env"
  },
  "language_info": {
   "codemirror_mode": {
    "name": "ipython",
    "version": 3
   },
   "file_extension": ".py",
   "mimetype": "text/x-python",
   "name": "python",
   "nbconvert_exporter": "python",
   "pygments_lexer": "ipython3",
   "version": "3.10.12"
  }
 },
 "nbformat": 4,
 "nbformat_minor": 5
}
